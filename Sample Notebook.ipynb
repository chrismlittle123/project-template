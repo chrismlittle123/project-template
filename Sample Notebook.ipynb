{
 "cells": [
  {
   "cell_type": "markdown",
   "metadata": {},
   "source": [
    "# Sample Notebook"
   ]
  },
  {
   "cell_type": "code",
   "execution_count": 4,
   "metadata": {},
   "outputs": [],
   "source": [
    "import requests\n",
    "import json\n",
    "import os\n",
    "\n",
    "import pandas as pd"
   ]
  },
  {
   "cell_type": "code",
   "execution_count": 5,
   "metadata": {},
   "outputs": [],
   "source": [
    "def get_data_folder_path(file_name) -> str:\n",
    "    return os.path.join(*[\"data\", file_name])\n"
   ]
  },
  {
   "cell_type": "code",
   "execution_count": 6,
   "metadata": {},
   "outputs": [
    {
     "ename": "FileNotFoundError",
     "evalue": "[Errno 2] No such file or directory: '/Users/chris.little/Documents/Python/Interview/data/data.json'",
     "output_type": "error",
     "traceback": [
      "\u001b[0;31m---------------------------------------------------------------------------\u001b[0m",
      "\u001b[0;31mFileNotFoundError\u001b[0m                         Traceback (most recent call last)",
      "Input \u001b[0;32mIn [6]\u001b[0m, in \u001b[0;36m<module>\u001b[0;34m\u001b[0m\n\u001b[1;32m      2\u001b[0m json_file_name \u001b[38;5;241m=\u001b[39m \u001b[38;5;124m\"\u001b[39m\u001b[38;5;124mdata.json\u001b[39m\u001b[38;5;124m\"\u001b[39m\n\u001b[1;32m      3\u001b[0m json_path \u001b[38;5;241m=\u001b[39m os\u001b[38;5;241m.\u001b[39mpath\u001b[38;5;241m.\u001b[39mjoin(\u001b[38;5;241m*\u001b[39m[data_folder_path, json_file_name])\n\u001b[0;32m----> 5\u001b[0m \u001b[38;5;28;01mwith\u001b[39;00m \u001b[38;5;28;43mopen\u001b[39;49m\u001b[43m(\u001b[49m\u001b[43mjson_path\u001b[49m\u001b[43m,\u001b[49m\u001b[43m \u001b[49m\u001b[38;5;124;43m\"\u001b[39;49m\u001b[38;5;124;43mr\u001b[39;49m\u001b[38;5;124;43m\"\u001b[39;49m\u001b[43m)\u001b[49m \u001b[38;5;28;01mas\u001b[39;00m f:\n\u001b[1;32m      6\u001b[0m     output \u001b[38;5;241m=\u001b[39m json\u001b[38;5;241m.\u001b[39mloads(f\u001b[38;5;241m.\u001b[39mread())\n",
      "\u001b[0;31mFileNotFoundError\u001b[0m: [Errno 2] No such file or directory: '/Users/chris.little/Documents/Python/Interview/data/data.json'"
     ]
    }
   ],
   "source": [
    "data_folder_path = get_data_folder_path()\n",
    "json_file_name = \"data.json\"\n",
    "json_path = os.path.join(*[data_folder_path, json_file_name])\n",
    "\n",
    "with open(json_path, \"r\") as f:\n",
    "    output = json.loads(f.read())"
   ]
  },
  {
   "cell_type": "code",
   "execution_count": null,
   "metadata": {},
   "outputs": [
    {
     "data": {
      "text/plain": [
       "[{'text': 'Chelsea',\n",
       "  'url': '/property-for-sale/Chelsea.html',\n",
       "  'noFollow': False},\n",
       " {'text': 'Battersea',\n",
       "  'url': '/property-for-sale/Battersea.html',\n",
       "  'noFollow': False},\n",
       " {'text': 'Shoreditch',\n",
       "  'url': '/property-for-sale/Shoreditch.html',\n",
       "  'noFollow': False},\n",
       " {'text': 'Hackney',\n",
       "  'url': '/property-for-sale/Hackney.html',\n",
       "  'noFollow': False},\n",
       " {'text': 'Islington',\n",
       "  'url': '/property-for-sale/Islington-87515.html',\n",
       "  'noFollow': False},\n",
       " {'text': 'Camden',\n",
       "  'url': '/property-for-sale/Camden.html',\n",
       "  'noFollow': False},\n",
       " {'text': 'St Johns Wood',\n",
       "  'url': '/property-for-sale/St-Johns-Wood.html',\n",
       "  'noFollow': False},\n",
       " {'text': 'Paddington',\n",
       "  'url': '/property-for-sale/Paddington.html',\n",
       "  'noFollow': False},\n",
       " {'text': 'Bayswater',\n",
       "  'url': '/property-for-sale/Bayswater.html',\n",
       "  'noFollow': False},\n",
       " {'text': 'Pimlico',\n",
       "  'url': '/property-for-sale/Pimlico.html',\n",
       "  'noFollow': False},\n",
       " {'text': 'Locations within London on a map',\n",
       "  'url': '/property/London.html',\n",
       "  'noFollow': False}]"
      ]
     },
     "execution_count": 36,
     "metadata": {},
     "output_type": "execute_result"
    }
   ],
   "source": [
    "output[\"nearbyLocationSearches\"][\"model\"]"
   ]
  },
  {
   "cell_type": "code",
   "execution_count": null,
   "metadata": {},
   "outputs": [],
   "source": [
    "df = pd.DataFrame(output[\"nearbyLocationSearches\"][\"model\"])"
   ]
  },
  {
   "cell_type": "code",
   "execution_count": null,
   "metadata": {},
   "outputs": [
    {
     "data": {
      "text/html": [
       "<div>\n",
       "<style scoped>\n",
       "    .dataframe tbody tr th:only-of-type {\n",
       "        vertical-align: middle;\n",
       "    }\n",
       "\n",
       "    .dataframe tbody tr th {\n",
       "        vertical-align: top;\n",
       "    }\n",
       "\n",
       "    .dataframe thead th {\n",
       "        text-align: right;\n",
       "    }\n",
       "</style>\n",
       "<table border=\"1\" class=\"dataframe\">\n",
       "  <thead>\n",
       "    <tr style=\"text-align: right;\">\n",
       "      <th></th>\n",
       "      <th>text</th>\n",
       "      <th>url</th>\n",
       "      <th>noFollow</th>\n",
       "    </tr>\n",
       "  </thead>\n",
       "  <tbody>\n",
       "    <tr>\n",
       "      <th>0</th>\n",
       "      <td>Chelsea</td>\n",
       "      <td>/property-for-sale/Chelsea.html</td>\n",
       "      <td>False</td>\n",
       "    </tr>\n",
       "    <tr>\n",
       "      <th>1</th>\n",
       "      <td>Battersea</td>\n",
       "      <td>/property-for-sale/Battersea.html</td>\n",
       "      <td>False</td>\n",
       "    </tr>\n",
       "    <tr>\n",
       "      <th>2</th>\n",
       "      <td>Shoreditch</td>\n",
       "      <td>/property-for-sale/Shoreditch.html</td>\n",
       "      <td>False</td>\n",
       "    </tr>\n",
       "    <tr>\n",
       "      <th>3</th>\n",
       "      <td>Hackney</td>\n",
       "      <td>/property-for-sale/Hackney.html</td>\n",
       "      <td>False</td>\n",
       "    </tr>\n",
       "    <tr>\n",
       "      <th>4</th>\n",
       "      <td>Islington</td>\n",
       "      <td>/property-for-sale/Islington-87515.html</td>\n",
       "      <td>False</td>\n",
       "    </tr>\n",
       "    <tr>\n",
       "      <th>5</th>\n",
       "      <td>Camden</td>\n",
       "      <td>/property-for-sale/Camden.html</td>\n",
       "      <td>False</td>\n",
       "    </tr>\n",
       "    <tr>\n",
       "      <th>6</th>\n",
       "      <td>St Johns Wood</td>\n",
       "      <td>/property-for-sale/St-Johns-Wood.html</td>\n",
       "      <td>False</td>\n",
       "    </tr>\n",
       "    <tr>\n",
       "      <th>7</th>\n",
       "      <td>Paddington</td>\n",
       "      <td>/property-for-sale/Paddington.html</td>\n",
       "      <td>False</td>\n",
       "    </tr>\n",
       "    <tr>\n",
       "      <th>8</th>\n",
       "      <td>Bayswater</td>\n",
       "      <td>/property-for-sale/Bayswater.html</td>\n",
       "      <td>False</td>\n",
       "    </tr>\n",
       "    <tr>\n",
       "      <th>9</th>\n",
       "      <td>Pimlico</td>\n",
       "      <td>/property-for-sale/Pimlico.html</td>\n",
       "      <td>False</td>\n",
       "    </tr>\n",
       "    <tr>\n",
       "      <th>10</th>\n",
       "      <td>Locations within London on a map</td>\n",
       "      <td>/property/London.html</td>\n",
       "      <td>False</td>\n",
       "    </tr>\n",
       "  </tbody>\n",
       "</table>\n",
       "</div>"
      ],
      "text/plain": [
       "                                text                                      url  \\\n",
       "0                            Chelsea          /property-for-sale/Chelsea.html   \n",
       "1                          Battersea        /property-for-sale/Battersea.html   \n",
       "2                         Shoreditch       /property-for-sale/Shoreditch.html   \n",
       "3                            Hackney          /property-for-sale/Hackney.html   \n",
       "4                          Islington  /property-for-sale/Islington-87515.html   \n",
       "5                             Camden           /property-for-sale/Camden.html   \n",
       "6                      St Johns Wood    /property-for-sale/St-Johns-Wood.html   \n",
       "7                         Paddington       /property-for-sale/Paddington.html   \n",
       "8                          Bayswater        /property-for-sale/Bayswater.html   \n",
       "9                            Pimlico          /property-for-sale/Pimlico.html   \n",
       "10  Locations within London on a map                    /property/London.html   \n",
       "\n",
       "    noFollow  \n",
       "0      False  \n",
       "1      False  \n",
       "2      False  \n",
       "3      False  \n",
       "4      False  \n",
       "5      False  \n",
       "6      False  \n",
       "7      False  \n",
       "8      False  \n",
       "9      False  \n",
       "10     False  "
      ]
     },
     "execution_count": 28,
     "metadata": {},
     "output_type": "execute_result"
    }
   ],
   "source": [
    "df"
   ]
  },
  {
   "cell_type": "code",
   "execution_count": null,
   "metadata": {},
   "outputs": [
    {
     "data": {
      "text/plain": [
       "'/Users/chris.little/Documents/Python/Interview/project-template/data'"
      ]
     },
     "execution_count": 41,
     "metadata": {},
     "output_type": "execute_result"
    }
   ],
   "source": [
    "get_data_folder_path()"
   ]
  },
  {
   "cell_type": "code",
   "execution_count": null,
   "metadata": {},
   "outputs": [],
   "source": []
  }
 ],
 "metadata": {
  "kernelspec": {
   "display_name": "Python 3",
   "language": "python",
   "name": "python3"
  },
  "language_info": {
   "codemirror_mode": {
    "name": "ipython",
    "version": 3
   },
   "file_extension": ".py",
   "mimetype": "text/x-python",
   "name": "python",
   "nbconvert_exporter": "python",
   "pygments_lexer": "ipython3",
   "version": "3.9.7"
  }
 },
 "nbformat": 4,
 "nbformat_minor": 4
}
